{
 "cells": [
  {
   "cell_type": "markdown",
   "metadata": {},
   "source": [
    "# Back end testing\n",
    "When creating a new project, if it is similar to any existing projects, want to recommend those existing ones (like stackoverflow)\n",
    "\n",
    "## TODO:\n",
    "- add function to send request to join project"
   ]
  },
  {
   "cell_type": "code",
   "execution_count": 4,
   "metadata": {
    "execution": {
     "iopub.execute_input": "2021-03-03T06:01:47.695948Z",
     "iopub.status.busy": "2021-03-03T06:01:47.695404Z",
     "iopub.status.idle": "2021-03-03T06:01:47.750092Z",
     "shell.execute_reply": "2021-03-03T06:01:47.748728Z",
     "shell.execute_reply.started": "2021-03-03T06:01:47.695725Z"
    }
   },
   "outputs": [],
   "source": [
    "class ProjectDB:\n",
    "    '''Contains all projects and certain attributes'''\n",
    "    projs = [] #needs a better way to be indexed. hash table of sorts?\n",
    "    categories = {'learning': Learning, 'software development':SoftwareDev} #used in proj creation and querying\n",
    "    category_desc = {'Engineering': \"Have you been sketching out a new invention but don't know how to deploy it to production? Lorem ipsum...\"}\n",
    "    #Various project properties\n",
    "    ## General\n",
    "    skill_levels = ('beginnger','intermediate','advanced')\n",
    "    project_types = (\"casual\", \"professional\")\n",
    "    possible_locations = {} #{Country:{States: {cities, schools etc}}}, prob upload from json\n",
    "    locations = {} #current locations of projects, updated as projects are added\n",
    "    ## Learning\n",
    "    learning_categories = {\"math\":['calculus', 'differential equations']}\n",
    "    pace_types = (\"custom-pace\",\"self-paced\", \"quarter\",\"semester\")\n",
    "    \n",
    "    def add_proj(self, proj):\n",
    "        self.projs.append(proj)\n",
    "        \n",
    "    def query(self, q):\n",
    "        '''returns or prints projects relevant to search\n",
    "        Maybe have two types of query, one for searching a description, other for broadly searching a category'''\n",
    "        q_str = q\n",
    "        q_tokens = [w.lower() for w in q.split(' ')]\n",
    "        if len(q) > 3: #description based query\n",
    "            results = []\n",
    "            for prj in self.projs:\n",
    "                p_tokens = [w.lower() for w in prj.desc.split(' ')]\n",
    "                pass #if similarity between query and prj.desc is low, append\n",
    "                results.append(prj)\n",
    "            return results\n",
    "        \n",
    "        elif q_str.lower() in self.categories:\n",
    "            results = []\n",
    "            for prj in self.projs:\n",
    "                if q_str.lower() == prj.category.lower():\n",
    "                    results.append(prj)\n",
    "        \n",
    "            return results\n",
    "        \n",
    "    def request_join(self,username,intro,project):\n",
    "        pass\n",
    "    \n",
    "class Project(ProjectDB):\n",
    "    '''Super class for all projects'''\n",
    "    def __init__(self, category, location, desc, project_type = None, skill_level = None):\n",
    "        ''' \n",
    "        location can be multiple e.g., online and UCSD\n",
    "        For projects except education/learning : project_type in (\"casual\", \"professional\")'''\n",
    "        super().__init__()\n",
    "        self.category = category\n",
    "        self.location = location\n",
    "        self.desc = desc\n",
    "        self.skill_level = skill_level\n",
    "        self.admins = [] #if one person: needs to be added automatically; else: creator can add users as admins\n",
    "        self.members = {'creators':self.admins, 'member':[]} #add more member types depending on project\n",
    "        \n",
    "        if category != 'learning' and (project_type is None or project_type not in self.project_types):\n",
    "            raise TypeError(f'Must be in {self.project_types}')\n",
    "        else:\n",
    "            self.project_type = project_type\n",
    "            \n",
    "    def addMember(self,member,role):\n",
    "        self.members[role].append(member)\n",
    "        \n",
    "    def __repr__(self):\n",
    "        return f'<{self.categories[self.category].__name__}_{hash(self)}>'\n",
    "        \n",
    "class Learning(Project):\n",
    "    '''Can be study group for a course, or just auto-didacts studying a subject together'''\n",
    "    def __init__(self, location, desc, pace, learning_category, subject):\n",
    "        '''Pace in (\"custom-pace\",\"self-paced\", \"quarter\",\"semester\")'''\n",
    "        super().__init__(category = 'learning', location = location, desc = desc)\n",
    "        \n",
    "        if pace not in self.pace_types:\n",
    "            raise TypeError(f'Must be in {self.pace_types}')\n",
    "        else:\n",
    "            self.pace = pace\n",
    "        \n",
    "        self.learning_category = learning_category\n",
    "        self.subject = subject\n",
    "        # crude way to add new subjects to learning_categories\n",
    "        if subject.lower() not in [i for row in self.learning_categories.values() for i in row]: # <-- list of all subjects\n",
    "            ProjectDataBase.learning_categories[learning_category].append(subject)\n",
    "        \n",
    "class SoftwareDev(Project):\n",
    "    def __init__(self, location, desc, project_type, skill_level):\n",
    "        super().__init__(category = 'software development', location=location, desc=desc, project_type=project_type, skill_level=skill_level)\n",
    "\n",
    "class Reading(Project):\n",
    "    def __init__(self, location, desc, skill_level, book):\n",
    "        super().__init__(category = 'reading', location=location, desc=desc, skill_level=skill_level)\n",
    "        self.book = book\n",
    "\n",
    "def makeProject():\n",
    "    '''Creates a new project. Instance of ProjectDB named ProjectDataBase must be instantiated first.'''\n",
    "    projects = ProjectDataBase.categories #{category input : ClassName, ...}\n",
    "    arg_input_dict = {'location':'location', 'desc':'description', 'project_type':'project type', 'skill_level':'skill level', 'pace':'pace','learning_category':'learning category','subject':'subject','book':'book'} # {argument var name : input prompt, ...}\n",
    "    category = input('category: ')\n",
    "    args_ = projects[category].__init__.__code__.co_varnames[1:]\n",
    "    input_args = []\n",
    "    #this is the form\n",
    "    for a in args_:\n",
    "        input_args.append(input(f'{arg_input_dict[a]}: '))\n",
    "    proj = projects[category](*input_args)\n",
    "\n",
    "    ProjectDataBase.add_proj(proj) #adding to instance of ProjectDB\n",
    "    return proj #maybe return not necessary\n",
    "\n",
    "ProjectDataBase = ProjectDB()"
   ]
  },
  {
   "cell_type": "code",
   "execution_count": 71,
   "metadata": {
    "execution": {
     "iopub.execute_input": "2021-01-24T04:48:05.232094Z",
     "iopub.status.busy": "2021-01-24T04:48:05.231482Z",
     "iopub.status.idle": "2021-01-24T04:48:09.656327Z",
     "shell.execute_reply": "2021-01-24T04:48:09.653463Z",
     "shell.execute_reply.started": "2021-01-24T04:48:05.231983Z"
    }
   },
   "outputs": [
    {
     "name": "stdin",
     "output_type": "stream",
     "text": [
      "category:  learning\n",
      "location:  a\n",
      "description:  a\n",
      "pace:  quarter\n",
      "learning category:  math\n",
      "subject:  a\n"
     ]
    },
    {
     "data": {
      "text/plain": [
       "<Learning_8793231843205>"
      ]
     },
     "execution_count": 71,
     "metadata": {},
     "output_type": "execute_result"
    }
   ],
   "source": [
    "makeProject() "
   ]
  },
  {
   "cell_type": "code",
   "execution_count": 27,
   "metadata": {
    "execution": {
     "iopub.execute_input": "2021-01-24T04:36:47.729296Z",
     "iopub.status.busy": "2021-01-24T04:36:47.726505Z",
     "iopub.status.idle": "2021-01-24T04:36:47.784628Z",
     "shell.execute_reply": "2021-01-24T04:36:47.771304Z",
     "shell.execute_reply.started": "2021-01-24T04:36:47.728712Z"
    }
   },
   "outputs": [
    {
     "data": {
      "text/plain": [
       "'learning:8793231818437'"
      ]
     },
     "execution_count": 27,
     "metadata": {},
     "output_type": "execute_result"
    }
   ],
   "source": [
    "str(ProjectDataBase.projs[0])"
   ]
  },
  {
   "cell_type": "markdown",
   "metadata": {},
   "source": [
    "## Project form pseudocode"
   ]
  },
  {
   "cell_type": "code",
   "execution_count": null,
   "metadata": {},
   "outputs": [],
   "source": [
    "form = ProjectForm()\n",
    "if form.validate_on_submit():\n",
    "    project = Project(creator=current_user, name = form.name.data, category = form.category.data, #consider using **kwargs\n",
    "                    descr=form.descr.data)\n",
    "    db.session.add(project)\n",
    "    spec_arg_names = [attr for attr in list(vars(ProjectForm)) if not attr.startswith(\"__\")][5:-1]\n",
    "    spec_args = []\n",
    "    for a in spec_arg_names:\n",
    "        exec(f'spec_args.append(form.{a}.data)')\n",
    "    spec_args = [a for a in spec_args if a != None]\n",
    "    project_spec = ProjectDB.categories[form.category.data](*spec_args) #the specific project\n",
    "    db.session.add(project_spec)"
   ]
  },
  {
   "cell_type": "code",
   "execution_count": 59,
   "metadata": {
    "execution": {
     "iopub.execute_input": "2021-02-20T04:01:58.057040Z",
     "iopub.status.busy": "2021-02-20T04:01:58.056302Z",
     "iopub.status.idle": "2021-02-20T04:01:58.072514Z",
     "shell.execute_reply": "2021-02-20T04:01:58.071080Z",
     "shell.execute_reply.started": "2021-02-20T04:01:58.056789Z"
    }
   },
   "outputs": [
    {
     "data": {
      "text/plain": [
       "[6]"
      ]
     },
     "execution_count": 59,
     "metadata": {},
     "output_type": "execute_result"
    }
   ],
   "source": [
    "class ProjectForm():\n",
    "    \"\"\"Create a new project, on /index\"\"\"\n",
    "    categories = ['Select one', 'learning','software development'] #these should be inherited\n",
    "    learning_categories = ['None', 'Math']\n",
    "    name = None\n",
    "        \n",
    "    category = None\n",
    "    descr = None\n",
    "        \n",
    "    #Learning specific\n",
    "    learning_category = None\n",
    "    x1 = None\n",
    "    x2 = 6\n",
    "    submit = None\n",
    "    x3 = None\n",
    "\n",
    "var_arg = [attr for attr in list(vars(ProjectForm)) if not attr.startswith(\"__\")][5:-1]\n",
    "\n",
    "spec_args = []\n",
    "for a in var_arg:\n",
    "    exec(f'spec_args.append(ProjectForm.{a})')\n",
    "[a for a in spec_args if a != None]\n"
   ]
  },
  {
   "cell_type": "code",
   "execution_count": 49,
   "metadata": {
    "execution": {
     "iopub.execute_input": "2021-02-20T03:47:13.551289Z",
     "iopub.status.busy": "2021-02-20T03:47:13.550489Z",
     "iopub.status.idle": "2021-02-20T03:47:13.565459Z",
     "shell.execute_reply": "2021-02-20T03:47:13.563558Z",
     "shell.execute_reply.started": "2021-02-20T03:47:13.550952Z"
    }
   },
   "outputs": [
    {
     "data": {
      "text/plain": [
       "'1'"
      ]
     },
     "execution_count": 49,
     "metadata": {},
     "output_type": "execute_result"
    }
   ],
   "source": [
    "exec(f'x = A.var')\n",
    "x"
   ]
  },
  {
   "cell_type": "code",
   "execution_count": 5,
   "metadata": {
    "execution": {
     "iopub.execute_input": "2021-02-20T17:12:55.850258Z",
     "iopub.status.busy": "2021-02-20T17:12:55.849693Z",
     "iopub.status.idle": "2021-02-20T17:12:55.864890Z",
     "shell.execute_reply": "2021-02-20T17:12:55.863181Z",
     "shell.execute_reply.started": "2021-02-20T17:12:55.850143Z"
    }
   },
   "outputs": [],
   "source": [
    "class A(object):\n",
    "    #VAR = os.environ.get('VAR') or 420\n",
    "    var = '1'\n",
    "    kk = 3\n",
    "    def __init__(self):\n",
    "        self._potato = 3\n",
    "        self.learning_categories = {\"Math\":['Calculus', 'Differential Equations']}   \n",
    "    def p():\n",
    "        print(3)\n",
    "class B(A):\n",
    "    x = 2\n",
    "    def __init__(self, carrot):\n",
    "        #super(A,self).__init__()\n",
    "        super().__init__()\n",
    "        self.carrot=carrot\n",
    "    def __str__(self):\n",
    "        return \"AYO\"\n",
    "\n",
    "class C(B):\n",
    "    ya= 'yar'\n",
    "    def __init__(self, legume):\n",
    "        #super(A,self).__init__()\n",
    "        #super().__init__(carrot=legume)\n",
    "        pass\n",
    "    def sumn(self):\n",
    "        return self.ya + 'ggg'\n",
    "    def p(self):\n",
    "        return self.potato\n",
    "    \n",
    "    def __repr__(self):\n",
    "        return f'{__class__.__name__} {hash(self)}'"
   ]
  },
  {
   "cell_type": "code",
   "execution_count": 21,
   "metadata": {
    "execution": {
     "iopub.execute_input": "2021-02-20T03:25:28.568264Z",
     "iopub.status.busy": "2021-02-20T03:25:28.567412Z",
     "iopub.status.idle": "2021-02-20T03:25:28.580573Z",
     "shell.execute_reply": "2021-02-20T03:25:28.579058Z",
     "shell.execute_reply.started": "2021-02-20T03:25:28.567902Z"
    }
   },
   "outputs": [
    {
     "data": {
      "text/plain": [
       "['kk', 'var']"
      ]
     },
     "execution_count": 21,
     "metadata": {},
     "output_type": "execute_result"
    }
   ],
   "source": [
    "[attr for attr in dir(A) if not callable(getattr(A, attr)) and not attr.startswith(\"__\")]"
   ]
  },
  {
   "cell_type": "code",
   "execution_count": 8,
   "metadata": {
    "execution": {
     "iopub.execute_input": "2021-02-06T03:13:05.563091Z",
     "iopub.status.busy": "2021-02-06T03:13:05.562334Z",
     "iopub.status.idle": "2021-02-06T03:13:05.575803Z",
     "shell.execute_reply": "2021-02-06T03:13:05.574145Z",
     "shell.execute_reply.started": "2021-02-06T03:13:05.562777Z"
    }
   },
   "outputs": [
    {
     "data": {
      "text/plain": [
       "2"
      ]
     },
     "execution_count": 8,
     "metadata": {},
     "output_type": "execute_result"
    }
   ],
   "source": [
    "x = C('yes')\n",
    "x.x"
   ]
  },
  {
   "cell_type": "code",
   "execution_count": 12,
   "metadata": {
    "execution": {
     "iopub.execute_input": "2021-02-20T18:16:04.915834Z",
     "iopub.status.busy": "2021-02-20T18:16:04.915090Z",
     "iopub.status.idle": "2021-02-20T18:16:04.927689Z",
     "shell.execute_reply": "2021-02-20T18:16:04.926497Z",
     "shell.execute_reply.started": "2021-02-20T18:16:04.915522Z"
    }
   },
   "outputs": [
    {
     "name": "stdout",
     "output_type": "stream",
     "text": [
      "1\n",
      "2\n"
     ]
    }
   ],
   "source": [
    "x={1:0,2:0}\n",
    "for i in x:\n",
    "    print(i)"
   ]
  },
  {
   "cell_type": "code",
   "execution_count": 17,
   "metadata": {
    "execution": {
     "iopub.execute_input": "2021-02-20T18:18:36.271740Z",
     "iopub.status.busy": "2021-02-20T18:18:36.270925Z",
     "iopub.status.idle": "2021-02-20T18:18:36.302162Z",
     "shell.execute_reply": "2021-02-20T18:18:36.300828Z",
     "shell.execute_reply.started": "2021-02-20T18:18:36.271420Z"
    }
   },
   "outputs": [
    {
     "name": "stdout",
     "output_type": "stream",
     "text": [
      "[0, 1, 2]\n"
     ]
    }
   ],
   "source": [
    "def x(*args, **kwargs):\n",
    "    for ka in kwargs.keys:\n",
    "        exec(f'{ka} = kwargs[{ka}]')\n",
    "    print(g)\n",
    "\n",
    "def x():\n",
    "    a=[]\n",
    "    for i in range(3):\n",
    "        exec('a.append(i)')\n",
    "    print(a)\n",
    "#x(None,{'g':3})\n",
    "x()"
   ]
  },
  {
   "cell_type": "code",
   "execution_count": 3,
   "metadata": {
    "execution": {
     "iopub.execute_input": "2021-02-20T17:11:49.964100Z",
     "iopub.status.busy": "2021-02-20T17:11:49.963558Z",
     "iopub.status.idle": "2021-02-20T17:11:49.972452Z",
     "shell.execute_reply": "2021-02-20T17:11:49.969656Z",
     "shell.execute_reply.started": "2021-02-20T17:11:49.963999Z"
    }
   },
   "outputs": [],
   "source": [
    "import fooof,\\\n",
    "        numpy"
   ]
  },
  {
   "cell_type": "code",
   "execution_count": 24,
   "metadata": {
    "execution": {
     "iopub.execute_input": "2021-04-02T05:49:09.882536Z",
     "iopub.status.busy": "2021-04-02T05:49:09.881971Z",
     "iopub.status.idle": "2021-04-02T05:49:09.893808Z",
     "shell.execute_reply": "2021-04-02T05:49:09.891477Z",
     "shell.execute_reply.started": "2021-04-02T05:49:09.882466Z"
    }
   },
   "outputs": [],
   "source": [
    "def col_char_lim(model):\n",
    "    \"\"\"returns dict of form {colname:length} for string columns\"\"\"\n",
    "    #tb_info = str(vars(model)['__table__'].__dict__['constraints']).split('Column(')\n",
    "    tb_info=\"{ForeignKeyConstraint(<sqlalchemy.sql.base.ColumnCollection object at 0x7f8f301d9810>, None, table=Table('project', MetaData(bind=None), Column('id', Integer(), table=<project>, primary_key=True, nullable=False), Column('category', String(length=60), table=<project>), Column('name', String(length=60), table=<project>), Column('descr', String(length=140), table=<project>), Column('skill_level', String(length=20), table=<project>), Column('setting', String(length=20), table=<project>), Column('language', String(length=5), table=<project>), Column('timestamp', DateTime(), table=<project>, default=ColumnDefault(<function datetime.utcnow at 0x7f8f301c0b00>)), Column('user_id', Integer(), ForeignKey('user.id'), table=<project>), schema=None)), PrimaryKeyConstraint(Column('id', Integer(), table=<project>, primary_key=True, nullable=False))}\".split('Column(')\n",
    "    tb_lens = dict()\n",
    "    for v in tb_info:\n",
    "        if 'length=' in v:\n",
    "            colname, c_len = re.findall(r\"\\'(.+?)\\'\", v)[0], re.findall(r\"length=(.+?)\\)\", v)[0]\n",
    "            tb_lens[colname] = int(c_len)\n",
    "    return tb_lens\n",
    "            "
   ]
  },
  {
   "cell_type": "code",
   "execution_count": 25,
   "metadata": {
    "execution": {
     "iopub.execute_input": "2021-04-02T05:49:10.628045Z",
     "iopub.status.busy": "2021-04-02T05:49:10.627547Z",
     "iopub.status.idle": "2021-04-02T05:49:10.642922Z",
     "shell.execute_reply": "2021-04-02T05:49:10.641728Z",
     "shell.execute_reply.started": "2021-04-02T05:49:10.627980Z"
    }
   },
   "outputs": [
    {
     "data": {
      "text/plain": [
       "{'category': 60,\n",
       " 'name': 60,\n",
       " 'descr': 140,\n",
       " 'skill_level': 20,\n",
       " 'setting': 20,\n",
       " 'language': 5}"
      ]
     },
     "execution_count": 25,
     "metadata": {},
     "output_type": "execute_result"
    }
   ],
   "source": [
    "col_char_lim(1)"
   ]
  },
  {
   "cell_type": "code",
   "execution_count": 3,
   "metadata": {
    "execution": {
     "iopub.execute_input": "2021-04-02T04:28:59.132417Z",
     "iopub.status.busy": "2021-04-02T04:28:59.131923Z",
     "iopub.status.idle": "2021-04-02T04:28:59.142585Z",
     "shell.execute_reply": "2021-04-02T04:28:59.141041Z",
     "shell.execute_reply.started": "2021-04-02T04:28:59.132356Z"
    }
   },
   "outputs": [
    {
     "data": {
      "text/plain": [
       "[\"{ForeignKeyConstraint(<sqlalchemy.sql.base.ColumnCollection object at 0x7f8f301d9810>, None, table=Table('project', MetaData(bind=None), \",\n",
       " \"'id', Integer(), table=<project>, primary_key=True, nullable=False), \",\n",
       " \"'category', String(length=60), table=<project>), \",\n",
       " \"'name', String(length=60), table=<project>), \",\n",
       " \"'descr', String(length=140), table=<project>), \",\n",
       " \"'skill_level', String(length=20), table=<project>), \",\n",
       " \"'setting', String(length=20), table=<project>), \",\n",
       " \"'language', String(length=5), table=<project>), \",\n",
       " \"'timestamp', DateTime(), table=<project>, default=ColumnDefault(<function datetime.utcnow at 0x7f8f301c0b00>)), \",\n",
       " \"'user_id', Integer(), ForeignKey('user.id'), table=<project>), schema=None)), PrimaryKeyConstraint(\",\n",
       " \"'id', Integer(), table=<project>, primary_key=True, nullable=False))}\"]"
      ]
     },
     "execution_count": 3,
     "metadata": {},
     "output_type": "execute_result"
    }
   ],
   "source": [
    "for i in \"{ForeignKeyConstraint(<sqlalchemy.sql.base.ColumnCollection object at 0x7f8f301d9810>, None, table=Table('project', MetaData(bind=None), Column('id', Integer(), table=<project>, primary_key=True, nullable=False), Column('category', String(length=60), table=<project>), Column('name', String(length=60), table=<project>), Column('descr', String(length=140), table=<project>), Column('skill_level', String(length=20), table=<project>), Column('setting', String(length=20), table=<project>), Column('language', String(length=5), table=<project>), Column('timestamp', DateTime(), table=<project>, default=ColumnDefault(<function datetime.utcnow at 0x7f8f301c0b00>)), Column('user_id', Integer(), ForeignKey('user.id'), table=<project>), schema=None)), PrimaryKeyConstraint(Column('id', Integer(), table=<project>, primary_key=True, nullable=False))}\".split('Column('):\n",
    "    "
   ]
  },
  {
   "cell_type": "code",
   "execution_count": 17,
   "metadata": {
    "execution": {
     "iopub.execute_input": "2021-04-02T05:40:44.340163Z",
     "iopub.status.busy": "2021-04-02T05:40:44.339622Z",
     "iopub.status.idle": "2021-04-02T05:40:44.352903Z",
     "shell.execute_reply": "2021-04-02T05:40:44.351603Z",
     "shell.execute_reply.started": "2021-04-02T05:40:44.340098Z"
    }
   },
   "outputs": [
    {
     "data": {
      "text/plain": [
       "['60']"
      ]
     },
     "execution_count": 17,
     "metadata": {},
     "output_type": "execute_result"
    }
   ],
   "source": [
    "import re\n",
    "re.findall(r\"length=(.+?)\\)\", \"'name', String(length=60), table=<project>), \")"
   ]
  },
  {
   "cell_type": "code",
   "execution_count": 16,
   "metadata": {
    "execution": {
     "iopub.execute_input": "2021-04-02T05:39:03.331669Z",
     "iopub.status.busy": "2021-04-02T05:39:03.331201Z",
     "iopub.status.idle": "2021-04-02T05:39:03.347517Z",
     "shell.execute_reply": "2021-04-02T05:39:03.341628Z",
     "shell.execute_reply.started": "2021-04-02T05:39:03.331610Z"
    }
   },
   "outputs": [
    {
     "data": {
      "text/plain": [
       "True"
      ]
     },
     "execution_count": 16,
     "metadata": {},
     "output_type": "execute_result"
    }
   ],
   "source": [
    "'length=' in 'ing(length=60),'\n"
   ]
  },
  {
   "cell_type": "code",
   "execution_count": null,
   "metadata": {},
   "outputs": [],
   "source": []
  }
 ],
 "metadata": {
  "kernelspec": {
   "display_name": "Python 3",
   "language": "python",
   "name": "python3"
  },
  "language_info": {
   "codemirror_mode": {
    "name": "ipython",
    "version": 3
   },
   "file_extension": ".py",
   "mimetype": "text/x-python",
   "name": "python",
   "nbconvert_exporter": "python",
   "pygments_lexer": "ipython3",
   "version": "3.7.4"
  }
 },
 "nbformat": 4,
 "nbformat_minor": 4
}
