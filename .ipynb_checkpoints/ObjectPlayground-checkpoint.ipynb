{
 "cells": [
  {
   "cell_type": "code",
   "execution_count": 128,
   "metadata": {
    "execution": {
     "iopub.execute_input": "2021-01-10T00:45:43.793503Z",
     "iopub.status.busy": "2021-01-10T00:45:43.792623Z",
     "iopub.status.idle": "2021-01-10T00:45:43.817861Z",
     "shell.execute_reply": "2021-01-10T00:45:43.815850Z",
     "shell.execute_reply.started": "2021-01-10T00:45:43.793162Z"
    }
   },
   "outputs": [],
   "source": [
    "class ProjectStructure:\n",
    "    def __init__(self):\n",
    "        self.skill_levels = ('beginnger','intermediate','advanced')\n",
    "        #for learning\n",
    "        self.learning_categories = {\"Math\":['Calculus', 'Differential Equations']}\n",
    "        \n",
    "class Project(ProjectStructure):\n",
    "    def __init__(self, category, location, desc, project_type = None, skill_level = None):\n",
    "        '''For projects except education/learning : project_type in (\"casual\", \"professional\")'''\n",
    "        ProjectStructure.__init__(self)\n",
    "        self.category = category\n",
    "        self.location = location\n",
    "        self.desc = desc\n",
    "        self.skill_level = skill_level\n",
    "        if category != 'learning' and (project_type is None or project_type not in (\"casual\", \"professional\")):\n",
    "            raise TypeError('Must be \"casual\" or \"professional\"')\n",
    "        else:\n",
    "            self.project_type = project_type\n",
    "        \n",
    "class Learning(Project):\n",
    "    def __init__(self, location, desc, pace, learning_category, subject):\n",
    "        '''Pace in (\"custom-pace\",\"self-paced\", \"quarter\",\"semester\")'''\n",
    "        Project.__init__(self, category = 'learning', location = location, desc = desc)\n",
    "        \n",
    "    def add_subject(self,learning_category,subject):\n",
    "        self.learning_categories[learning_category].append(subject)\n",
    "        \n",
    "class SoftwareDev(Project):\n",
    "    def __init__(self, location, desc, project_type, skill_level):\n",
    "        Project.__init__(self, category = 'software development', location=location, desc=desc, project_type=project_type, skill_level=skill_level)\n",
    "        self.skill_level = skill_level\n",
    "    \n",
    "def makeProject():\n",
    "    category = input('category: ')\n",
    "    location = input('location: ')\n",
    "    desc     = input('description:')\n",
    "    projects = {'learning': 'Learning', 'software development':'SoftwareDev'}\n",
    "    if category == 'learning':\n",
    "        pace              = input('pace: ')\n",
    "        learning_category = input('learning_category: ')\n",
    "        subject           = input('subject: ')\n",
    "        proj = Learning(location, desc, pace, learning_category, subject)\n",
    "        \n",
    "    else: #other simple projects\n",
    "        project_type = input('project_type: ')\n",
    "        exec(f'proj = {projects[category]}(location, desc, project_type, skill_level)')\n",
    "    return proj"
   ]
  },
  {
   "cell_type": "code",
   "execution_count": 129,
   "metadata": {
    "execution": {
     "iopub.execute_input": "2021-01-10T00:45:44.793468Z",
     "iopub.status.busy": "2021-01-10T00:45:44.789833Z",
     "iopub.status.idle": "2021-01-10T00:45:47.692576Z",
     "shell.execute_reply": "2021-01-10T00:45:47.689740Z",
     "shell.execute_reply.started": "2021-01-10T00:45:44.793360Z"
    }
   },
   "outputs": [
    {
     "name": "stdin",
     "output_type": "stream",
     "text": [
      "category:  learning\n",
      "location:  a\n",
      "description: a\n",
      "pace:  a\n",
      "learning_category:  a\n",
      "subject:  a\n"
     ]
    }
   ],
   "source": [
    "test = makeProject()"
   ]
  },
  {
   "cell_type": "code",
   "execution_count": 28,
   "metadata": {
    "execution": {
     "iopub.execute_input": "2021-01-09T23:33:15.788821Z",
     "iopub.status.busy": "2021-01-09T23:33:15.788066Z",
     "iopub.status.idle": "2021-01-09T23:33:15.795842Z",
     "shell.execute_reply": "2021-01-09T23:33:15.793943Z",
     "shell.execute_reply.started": "2021-01-09T23:33:15.788539Z"
    }
   },
   "outputs": [],
   "source": [
    "a = Learning(location = \"UCSD\", desc=  \" \", pace=\"quarter\")"
   ]
  },
  {
   "cell_type": "code",
   "execution_count": 131,
   "metadata": {
    "execution": {
     "iopub.execute_input": "2021-01-10T00:46:59.469797Z",
     "iopub.status.busy": "2021-01-10T00:46:59.469078Z",
     "iopub.status.idle": "2021-01-10T00:46:59.482117Z",
     "shell.execute_reply": "2021-01-10T00:46:59.479452Z",
     "shell.execute_reply.started": "2021-01-10T00:46:59.469500Z"
    }
   },
   "outputs": [],
   "source": [
    "class A:\n",
    "    def __init__(self):\n",
    "        self.potato = 3\n",
    "        self.learning_categories = {\"Math\":['Calculus', 'Differential Equations']}\n",
    "#     def p():\n",
    "#         print(3)\n",
    "class B(A):\n",
    "    def __init__(self):\n",
    "        #super(A,self).__init__()\n",
    "        A.__init__(self)\n",
    "\n",
    "class C(B):\n",
    "    def __init__(self):\n",
    "        #super(A,self).__init__()\n",
    "        B.__init__(self)\n",
    "        \n",
    "    def p(self):\n",
    "        return self.potato"
   ]
  },
  {
   "cell_type": "code",
   "execution_count": 124,
   "metadata": {
    "execution": {
     "iopub.execute_input": "2021-01-10T00:44:42.680283Z",
     "iopub.status.busy": "2021-01-10T00:44:42.678723Z",
     "iopub.status.idle": "2021-01-10T00:44:42.689288Z",
     "shell.execute_reply": "2021-01-10T00:44:42.687722Z",
     "shell.execute_reply.started": "2021-01-10T00:44:42.679888Z"
    }
   },
   "outputs": [],
   "source": [
    "bob = C()"
   ]
  },
  {
   "cell_type": "code",
   "execution_count": 125,
   "metadata": {
    "execution": {
     "iopub.execute_input": "2021-01-10T00:44:43.282858Z",
     "iopub.status.busy": "2021-01-10T00:44:43.282297Z",
     "iopub.status.idle": "2021-01-10T00:44:43.293862Z",
     "shell.execute_reply": "2021-01-10T00:44:43.292360Z",
     "shell.execute_reply.started": "2021-01-10T00:44:43.282760Z"
    }
   },
   "outputs": [
    {
     "data": {
      "text/plain": [
       "3"
      ]
     },
     "execution_count": 125,
     "metadata": {},
     "output_type": "execute_result"
    }
   ],
   "source": [
    "bob.potato"
   ]
  },
  {
   "cell_type": "code",
   "execution_count": null,
   "metadata": {},
   "outputs": [],
   "source": [
    "bob.learning_categories"
   ]
  },
  {
   "cell_type": "code",
   "execution_count": 132,
   "metadata": {
    "execution": {
     "iopub.execute_input": "2021-01-10T00:47:18.996889Z",
     "iopub.status.busy": "2021-01-10T00:47:18.996101Z",
     "iopub.status.idle": "2021-01-10T00:47:19.053735Z",
     "shell.execute_reply": "2021-01-10T00:47:19.049290Z",
     "shell.execute_reply.started": "2021-01-10T00:47:18.996588Z"
    }
   },
   "outputs": [
    {
     "ename": "AttributeError",
     "evalue": "type object 'A' has no attribute 'potato'",
     "output_type": "error",
     "traceback": [
      "\u001b[0;31m---------------------------------------------------------------------------\u001b[0m",
      "\u001b[0;31mAttributeError\u001b[0m                            Traceback (most recent call last)",
      "\u001b[0;32m<ipython-input-132-0fb8a4c4e3b6>\u001b[0m in \u001b[0;36m<module>\u001b[0;34m\u001b[0m\n\u001b[0;32m----> 1\u001b[0;31m \u001b[0mA\u001b[0m\u001b[0;34m.\u001b[0m\u001b[0mpotato\u001b[0m\u001b[0;34m\u001b[0m\u001b[0;34m\u001b[0m\u001b[0m\n\u001b[0m",
      "\u001b[0;31mAttributeError\u001b[0m: type object 'A' has no attribute 'potato'"
     ]
    }
   ],
   "source": [
    "A.potato"
   ]
  },
  {
   "cell_type": "code",
   "execution_count": null,
   "metadata": {},
   "outputs": [],
   "source": []
  }
 ],
 "metadata": {
  "kernelspec": {
   "display_name": "Python 3",
   "language": "python",
   "name": "python3"
  },
  "language_info": {
   "codemirror_mode": {
    "name": "ipython",
    "version": 3
   },
   "file_extension": ".py",
   "mimetype": "text/x-python",
   "name": "python",
   "nbconvert_exporter": "python",
   "pygments_lexer": "ipython3",
   "version": "3.7.4"
  }
 },
 "nbformat": 4,
 "nbformat_minor": 4
}
