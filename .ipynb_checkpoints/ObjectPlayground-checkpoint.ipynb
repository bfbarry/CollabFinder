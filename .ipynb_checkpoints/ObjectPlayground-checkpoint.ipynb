{
 "cells": [
  {
   "cell_type": "code",
   "execution_count": 25,
   "metadata": {
    "execution": {
     "iopub.execute_input": "2021-01-22T07:25:01.600655Z",
     "iopub.status.busy": "2021-01-22T07:25:01.599914Z",
     "iopub.status.idle": "2021-01-22T07:25:01.641779Z",
     "shell.execute_reply": "2021-01-22T07:25:01.639987Z",
     "shell.execute_reply.started": "2021-01-22T07:25:01.600345Z"
    }
   },
   "outputs": [],
   "source": [
    "class ProjectDB:\n",
    "    '''Contains all projects'''\n",
    "    def __init__(self):\n",
    "        self.projs = [] #needs a better way to be indexed. hash table of sorts?\n",
    "        self.categories = {'learning': 'Learning', 'software development':'SoftwareDev'} #for query/search purposes\n",
    "    def add_proj(self, proj):\n",
    "        self.projs.append(proj)\n",
    "        \n",
    "    def query(self, q):\n",
    "        '''returns or prints projects relevant to search'''\n",
    "        \n",
    "        if q.lower() in self.categories:\n",
    "            results = []\n",
    "            for prj in self.projs:\n",
    "                if q.lower() == prj.category.lower():\n",
    "                    results.append(prj)\n",
    "        return results\n",
    "    \n",
    "class ProjectStructure:\n",
    "    def __init__(self):\n",
    "        self.skill_levels = ('beginnger','intermediate','advanced')\n",
    "        #for learning\n",
    "        self.learning_categories = {\"Math\":['Calculus', 'Differential Equations']}\n",
    "\n",
    "class Project(ProjectStructure):\n",
    "    def __init__(self, category, location, desc, project_type = None, skill_level = None):\n",
    "        '''For projects except education/learning : project_type in (\"casual\", \"professional\")'''\n",
    "        ProjectStructure.__init__(self)\n",
    "        self.category = category\n",
    "        self.location = location\n",
    "        self.desc = desc\n",
    "        self.skill_level = skill_level\n",
    "        self.members = {'creator':[], 'member':[]} #add more member types\n",
    "        if category != 'learning' and (project_type is None or project_type not in (\"casual\", \"professional\")):\n",
    "            raise TypeError('Must be \"casual\" or \"professional\"')\n",
    "        else:\n",
    "            self.project_type = project_type\n",
    "            \n",
    "    def addMember(self,member,role):\n",
    "        self.members[role].append(member)\n",
    "        \n",
    "class Learning(Project):\n",
    "    def __init__(self, location, desc, pace, learning_category, subject):\n",
    "        '''Pace in (\"custom-pace\",\"self-paced\", \"quarter\",\"semester\")'''\n",
    "        Project.__init__(self, category = 'learning', location = location, desc = desc)\n",
    "        \n",
    "    def add_subject(self,learning_category,subject):\n",
    "        self.learning_categories[learning_category].append(subject)\n",
    "        \n",
    "class SoftwareDev(Project):\n",
    "    def __init__(self, location, desc, project_type, skill_level):\n",
    "        Project.__init__(self, category = 'software development', location=location, desc=desc, project_type=project_type, skill_level=skill_level)\n",
    "        self.skill_level = skill_level\n",
    "    \n",
    "def makeProject():\n",
    "    projects = ProjectDataBase.categories #input : ClassName dict\n",
    "    \n",
    "    category = input('category: ')\n",
    "    location = input('location: ')\n",
    "    desc     = input('description:')\n",
    "    \n",
    "    if category == 'learning':\n",
    "        pace              = input('pace: ')\n",
    "        learning_category = input('learning_category: ')\n",
    "        subject           = input('subject: ')\n",
    "        proj = Learning(location, desc, pace, learning_category, subject)\n",
    "        \n",
    "    else: #other simple projects\n",
    "        project_type = input('project_type: ')\n",
    "        exec(f'proj = {projects[category]}(location, desc, project_type, skill_level)')\n",
    "    ProjectDataBase.add_proj(proj) #adding to instance of ProjectDB\n",
    "    return proj #maybe return not necessary"
   ]
  },
  {
   "cell_type": "code",
   "execution_count": 23,
   "metadata": {
    "execution": {
     "iopub.execute_input": "2021-01-22T07:24:06.310309Z",
     "iopub.status.busy": "2021-01-22T07:24:06.309399Z",
     "iopub.status.idle": "2021-01-22T07:24:20.467849Z",
     "shell.execute_reply": "2021-01-22T07:24:20.464957Z",
     "shell.execute_reply.started": "2021-01-22T07:24:06.309883Z"
    }
   },
   "outputs": [
    {
     "name": "stdin",
     "output_type": "stream",
     "text": [
      "category:  learning\n",
      "location:  a\n",
      "description: a\n",
      "pace:  a\n",
      "learning_category:  \n",
      "subject:  a\n"
     ]
    }
   ],
   "source": [
    "ProjectDataBase = ProjectDB()\n",
    "\n",
    "makeProject()"
   ]
  },
  {
   "cell_type": "code",
   "execution_count": 24,
   "metadata": {
    "execution": {
     "iopub.execute_input": "2021-01-22T07:24:25.197125Z",
     "iopub.status.busy": "2021-01-22T07:24:25.196488Z",
     "iopub.status.idle": "2021-01-22T07:24:25.208937Z",
     "shell.execute_reply": "2021-01-22T07:24:25.207494Z",
     "shell.execute_reply.started": "2021-01-22T07:24:25.196987Z"
    }
   },
   "outputs": [
    {
     "data": {
      "text/plain": [
       "[<__main__.Learning at 0x7fd88ae5ce50>]"
      ]
     },
     "execution_count": 24,
     "metadata": {},
     "output_type": "execute_result"
    }
   ],
   "source": [
    "ProjectDataBase.query('learning')"
   ]
  },
  {
   "cell_type": "code",
   "execution_count": 2,
   "metadata": {
    "execution": {
     "iopub.execute_input": "2021-01-22T06:43:44.817490Z",
     "iopub.status.busy": "2021-01-22T06:43:44.816699Z",
     "iopub.status.idle": "2021-01-22T06:43:44.832399Z",
     "shell.execute_reply": "2021-01-22T06:43:44.830670Z",
     "shell.execute_reply.started": "2021-01-22T06:43:44.817154Z"
    }
   },
   "outputs": [],
   "source": [
    "class A:\n",
    "    def __init__(self):\n",
    "        self.potato = 3\n",
    "        self.learning_categories = {\"Math\":['Calculus', 'Differential Equations']}\n",
    "    def p():\n",
    "        print(3)\n",
    "class B(A):\n",
    "    def __init__(self):\n",
    "        #super(A,self).__init__()\n",
    "        A.__init__(self)\n",
    "\n",
    "class C(B):\n",
    "    def __init__(self):\n",
    "        #super(A,self).__init__()\n",
    "        B.__init__(self)\n",
    "        \n",
    "    def p(self):\n",
    "        return self.potato"
   ]
  },
  {
   "cell_type": "code",
   "execution_count": 3,
   "metadata": {
    "execution": {
     "iopub.execute_input": "2021-01-22T06:43:45.609772Z",
     "iopub.status.busy": "2021-01-22T06:43:45.608982Z",
     "iopub.status.idle": "2021-01-22T06:43:45.619111Z",
     "shell.execute_reply": "2021-01-22T06:43:45.617461Z",
     "shell.execute_reply.started": "2021-01-22T06:43:45.609459Z"
    }
   },
   "outputs": [],
   "source": [
    "bob = C()"
   ]
  },
  {
   "cell_type": "code",
   "execution_count": 5,
   "metadata": {
    "execution": {
     "iopub.execute_input": "2021-01-22T06:43:52.788659Z",
     "iopub.status.busy": "2021-01-22T06:43:52.787945Z",
     "iopub.status.idle": "2021-01-22T06:43:52.801824Z",
     "shell.execute_reply": "2021-01-22T06:43:52.800032Z",
     "shell.execute_reply.started": "2021-01-22T06:43:52.788375Z"
    }
   },
   "outputs": [
    {
     "data": {
      "text/plain": [
       "3"
      ]
     },
     "execution_count": 5,
     "metadata": {},
     "output_type": "execute_result"
    }
   ],
   "source": [
    "bob.p()"
   ]
  }
 ],
 "metadata": {
  "kernelspec": {
   "display_name": "Python 3",
   "language": "python",
   "name": "python3"
  },
  "language_info": {
   "codemirror_mode": {
    "name": "ipython",
    "version": 3
   },
   "file_extension": ".py",
   "mimetype": "text/x-python",
   "name": "python",
   "nbconvert_exporter": "python",
   "pygments_lexer": "ipython3",
   "version": "3.7.4"
  }
 },
 "nbformat": 4,
 "nbformat_minor": 4
}
