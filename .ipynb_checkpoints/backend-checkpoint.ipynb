{
 "cells": [
  {
   "cell_type": "markdown",
   "metadata": {},
   "source": [
    "# Back end testing\n",
    "When creating a new project, if it is similar to any existing projects, want to recommend those existing ones (like stackoverflow)\n",
    "\n",
    "## TODO:\n",
    "- add function to send request to join project"
   ]
  },
  {
   "cell_type": "code",
   "execution_count": 12,
   "metadata": {
    "execution": {
     "iopub.execute_input": "2021-01-23T05:31:50.560506Z",
     "iopub.status.busy": "2021-01-23T05:31:50.559634Z",
     "iopub.status.idle": "2021-01-23T05:31:50.609066Z",
     "shell.execute_reply": "2021-01-23T05:31:50.606061Z",
     "shell.execute_reply.started": "2021-01-23T05:31:50.560141Z"
    }
   },
   "outputs": [],
   "source": [
    "class ProjectDB:\n",
    "    '''Contains all projects and certain attributes'''\n",
    "    def __init__(self):\n",
    "        self.projs = [] #needs a better way to be indexed. hash table of sorts?\n",
    "        self.categories = {'learning': Learning, 'software development':SoftwareDev} #used in proj creation and querying\n",
    "        self.category_desc = {'Engineering': \"Have you been sketching out a new invention but don't know how to deploy it to production? Lorem ipsum...\"}\n",
    "        #Various project properties\n",
    "        ## General\n",
    "        self.skill_levels = ('beginnger','intermediate','advanced')\n",
    "        self.project_types = (\"casual\", \"professional\")\n",
    "        self.possible_locations = {} #{Country:{States: {cities, schools etc}}}, prob upload from json\n",
    "        self.locations = {} #current locations of projects, updated as projects are added\n",
    "        ## Learning\n",
    "        self.learning_categories = {\"math\":['calculus', 'differential equations']}\n",
    "        self.pace_types = (\"custom-pace\",\"self-paced\", \"quarter\",\"semester\")\n",
    "    \n",
    "    def add_proj(self, proj):\n",
    "        self.projs.append(proj)\n",
    "        \n",
    "    def query(self, q):\n",
    "        '''returns or prints projects relevant to search\n",
    "        Maybe have two types of query, one for searching a description, other for broadly searching a category'''\n",
    "        q_str = q\n",
    "        q_tokens = [w.lower() for w in q.split(' ')]\n",
    "        if len(q) > 3: #description based query\n",
    "            results = []\n",
    "            for prj in self.projs:\n",
    "                p_tokens = [w.lower() for w in prj.desc.split(' ')]\n",
    "                pass #if similarity between query and prj.desc is low, append\n",
    "                results.append(prj)\n",
    "            return results\n",
    "        \n",
    "        elif q_str.lower() in self.categories:\n",
    "            results = []\n",
    "            for prj in self.projs:\n",
    "                if q_str.lower() == prj.category.lower():\n",
    "                    results.append(prj)\n",
    "        \n",
    "            return results\n",
    "        \n",
    "    def request_join(self,username,intro,project):\n",
    "        pass\n",
    "    \n",
    "class Project(ProjectDB):\n",
    "    '''Super class for all projects'''\n",
    "    def __init__(self, category, location, desc, project_type = None, skill_level = None):\n",
    "        ''' \n",
    "        location can be multiple e.g., online and UCSD\n",
    "        For projects except education/learning : project_type in (\"casual\", \"professional\")'''\n",
    "        super().__init__()\n",
    "        self.category = category\n",
    "        self.location = location\n",
    "        self.desc = desc\n",
    "        self.skill_level = skill_level\n",
    "        self.members = {'creator':[], 'member':[]} #add more member types\n",
    "        if category != 'learning' and (project_type is None or project_type not in self.project_types):\n",
    "            raise TypeError(f'Must be in {self.project_types}')\n",
    "        else:\n",
    "            self.project_type = project_type\n",
    "            \n",
    "    def addMember(self,member,role):\n",
    "        self.members[role].append(member)\n",
    "        \n",
    "class Learning(Project):\n",
    "    '''Can be study group for a course, or just auto-didacts studying a subject together'''\n",
    "    def __init__(self, location, desc, pace, learning_category, subject):\n",
    "        '''Pace in (\"custom-pace\",\"self-paced\", \"quarter\",\"semester\")'''\n",
    "        super().__init__(category = 'learning', location = location, desc = desc)\n",
    "        \n",
    "        if pace not in self.pace_types:\n",
    "            raise TypeError(f'Must be in {self.pace_types}')\n",
    "        else:\n",
    "            self.pace = pace\n",
    "        \n",
    "        self.learning_category = learning_category\n",
    "        self.subject = subject\n",
    "        # crude way to add new subjects to learning_categories\n",
    "        if subject.lower() not in [i for row in self.learning_categories.values() for i in row]: # <-- list of all subjects\n",
    "            ProjectDataBase.learning_categories[learning_category].append(subject)\n",
    "        \n",
    "class SoftwareDev(Project):\n",
    "    def __init__(self, location, desc, project_type, skill_level):\n",
    "        super().__init__(category = 'software development', location=location, desc=desc, project_type=project_type, skill_level=skill_level)\n",
    "\n",
    "class Reading(Project):\n",
    "    def __init__(self, location, desc, skill_level, book):\n",
    "        super().__init__(category = 'reading', location=location, desc=desc, skill_level=skill_level)\n",
    "        self.book = book\n",
    "\n",
    "def makeProject():\n",
    "    '''Creates a new project. Instance of ProjectDB named ProjectDataBase must be instantiated first.'''\n",
    "    projects = ProjectDataBase.categories #{category input : ClassName, ...}\n",
    "    arg_input_dict = {'location':'location', 'desc':'description', 'project_type':'project type', 'skill_level':'skill level', 'pace':'pace','learning_category':'learning category','subject':'subject','book':'book'} # {argument var name : input prompt, ...}\n",
    "    category = input('category: ')\n",
    "    args_ = projects[category].__init__.__code__.co_varnames[1:]\n",
    "    input_args = []\n",
    "    for a in args_:\n",
    "        input_args.append(input(f'{arg_input_dict[a]}: '))\n",
    "    proj = projects[category](*input_args)\n",
    "\n",
    "    ProjectDataBase.add_proj(proj) #adding to instance of ProjectDB\n",
    "    return proj #maybe return not necessary\n",
    "\n",
    "ProjectDataBase = ProjectDB()"
   ]
  },
  {
   "cell_type": "code",
   "execution_count": 13,
   "metadata": {
    "execution": {
     "iopub.execute_input": "2021-01-23T05:31:51.881749Z",
     "iopub.status.busy": "2021-01-23T05:31:51.880771Z",
     "iopub.status.idle": "2021-01-23T05:32:05.430760Z",
     "shell.execute_reply": "2021-01-23T05:32:05.428989Z",
     "shell.execute_reply.started": "2021-01-23T05:31:51.881258Z"
    }
   },
   "outputs": [
    {
     "name": "stdin",
     "output_type": "stream",
     "text": [
      "category:  learning\n",
      "location:  us\n",
      "description:  a\n",
      "pace:  quarter\n",
      "learning category:  math\n",
      "subject:  a\n"
     ]
    },
    {
     "data": {
      "text/plain": [
       "<__main__.Learning at 0x7fa2d8d0c2d0>"
      ]
     },
     "execution_count": 13,
     "metadata": {},
     "output_type": "execute_result"
    }
   ],
   "source": [
    "makeProject()"
   ]
  },
  {
   "cell_type": "code",
   "execution_count": 15,
   "metadata": {
    "execution": {
     "iopub.execute_input": "2021-01-23T05:37:07.575539Z",
     "iopub.status.busy": "2021-01-23T05:37:07.574923Z",
     "iopub.status.idle": "2021-01-23T05:37:07.585103Z",
     "shell.execute_reply": "2021-01-23T05:37:07.583700Z",
     "shell.execute_reply.started": "2021-01-23T05:37:07.575426Z"
    }
   },
   "outputs": [
    {
     "data": {
      "text/plain": [
       "[<__main__.Learning at 0x7fa2d8d0c2d0>]"
      ]
     },
     "execution_count": 15,
     "metadata": {},
     "output_type": "execute_result"
    }
   ],
   "source": [
    "ProjectDataBase.projs"
   ]
  },
  {
   "cell_type": "code",
   "execution_count": 48,
   "metadata": {
    "execution": {
     "iopub.execute_input": "2021-01-23T02:58:35.332469Z",
     "iopub.status.busy": "2021-01-23T02:58:35.331807Z",
     "iopub.status.idle": "2021-01-23T02:58:35.345115Z",
     "shell.execute_reply": "2021-01-23T02:58:35.341484Z",
     "shell.execute_reply.started": "2021-01-23T02:58:35.332377Z"
    }
   },
   "outputs": [],
   "source": [
    "class A:\n",
    "    def __init__(self):\n",
    "        self.potato = 3\n",
    "        self.learning_categories = {\"Math\":['Calculus', 'Differential Equations']}\n",
    "    def p():\n",
    "        print(3)\n",
    "class B(A):\n",
    "    def __init__(self, carrot):\n",
    "        #super(A,self).__init__()\n",
    "        super().__init__()\n",
    "        self.carrot=carrot\n",
    "\n",
    "class C(B):\n",
    "    def __init__(self, legume):\n",
    "        #super(A,self).__init__()\n",
    "        super().__init__(carrot=legume)\n",
    "        \n",
    "    def p(self):\n",
    "        return self.potato\n",
    "    \n"
   ]
  },
  {
   "cell_type": "code",
   "execution_count": 49,
   "metadata": {
    "execution": {
     "iopub.execute_input": "2021-01-23T02:58:35.944354Z",
     "iopub.status.busy": "2021-01-23T02:58:35.943733Z",
     "iopub.status.idle": "2021-01-23T02:58:35.951577Z",
     "shell.execute_reply": "2021-01-23T02:58:35.949448Z",
     "shell.execute_reply.started": "2021-01-23T02:58:35.944067Z"
    }
   },
   "outputs": [],
   "source": [
    "bob = C('very orange')"
   ]
  }
 ],
 "metadata": {
  "kernelspec": {
   "display_name": "Python 3",
   "language": "python",
   "name": "python3"
  },
  "language_info": {
   "codemirror_mode": {
    "name": "ipython",
    "version": 3
   },
   "file_extension": ".py",
   "mimetype": "text/x-python",
   "name": "python",
   "nbconvert_exporter": "python",
   "pygments_lexer": "ipython3",
   "version": "3.7.4"
  }
 },
 "nbformat": 4,
 "nbformat_minor": 4
}
