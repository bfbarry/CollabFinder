{
 "cells": [
  {
   "cell_type": "markdown",
   "metadata": {},
   "source": [
    "# Pandas\n",
    "\n",
    "original csv now on Drive"
   ]
  },
  {
   "cell_type": "code",
   "execution_count": 7,
   "metadata": {
    "execution": {
     "iopub.execute_input": "2021-04-11T21:48:21.342245Z",
     "iopub.status.busy": "2021-04-11T21:48:21.341707Z",
     "iopub.status.idle": "2021-04-11T21:48:21.352994Z",
     "shell.execute_reply": "2021-04-11T21:48:21.347104Z",
     "shell.execute_reply.started": "2021-04-11T21:48:21.342178Z"
    }
   },
   "outputs": [],
   "source": [
    "import pandas as pd\n",
    "import numpy as np\n",
    "import json"
   ]
  },
  {
   "cell_type": "code",
   "execution_count": 10,
   "metadata": {
    "execution": {
     "iopub.execute_input": "2021-04-11T21:49:59.986297Z",
     "iopub.status.busy": "2021-04-11T21:49:59.985947Z",
     "iopub.status.idle": "2021-04-11T21:50:00.280496Z",
     "shell.execute_reply": "2021-04-11T21:50:00.279077Z",
     "shell.execute_reply.started": "2021-04-11T21:49:59.986258Z"
    }
   },
   "outputs": [],
   "source": [
    "## see markdown ^ do not run\n",
    "df = pd.read_csv('./app/data/InstitutionCampus.csv')\n",
    "schools = tuple(df[df.LocationType == 'Institution']['LocationName'])"
   ]
  },
  {
   "cell_type": "code",
   "execution_count": 11,
   "metadata": {
    "execution": {
     "iopub.execute_input": "2021-04-11T21:50:16.445370Z",
     "iopub.status.busy": "2021-04-11T21:50:16.444769Z",
     "iopub.status.idle": "2021-04-11T21:50:16.492372Z",
     "shell.execute_reply": "2021-04-11T21:50:16.477252Z",
     "shell.execute_reply.started": "2021-04-11T21:50:16.445301Z"
    }
   },
   "outputs": [],
   "source": [
    "with open('./app/data/colleges.json','w') as f:\n",
    "    json.dump(schools,f)"
   ]
  }
 ],
 "metadata": {
  "kernelspec": {
   "display_name": "Python 3",
   "language": "python",
   "name": "python3"
  },
  "language_info": {
   "codemirror_mode": {
    "name": "ipython",
    "version": 3
   },
   "file_extension": ".py",
   "mimetype": "text/x-python",
   "name": "python",
   "nbconvert_exporter": "python",
   "pygments_lexer": "ipython3",
   "version": "3.7.4"
  }
 },
 "nbformat": 4,
 "nbformat_minor": 4
}
