{
 "cells": [
  {
   "cell_type": "code",
   "execution_count": 1,
   "metadata": {
    "execution": {
     "iopub.execute_input": "2021-09-10T01:20:16.914954Z",
     "iopub.status.busy": "2021-09-10T01:20:16.912139Z",
     "iopub.status.idle": "2021-09-10T01:21:05.396284Z",
     "shell.execute_reply": "2021-09-10T01:21:05.394813Z",
     "shell.execute_reply.started": "2021-09-10T01:20:16.914515Z"
    }
   },
   "outputs": [],
   "source": [
    "%load_ext autoreload\n",
    "%autoreload 2\n",
    "# import sys, os\n",
    "# sys.path.append('../')\n",
    "# instead of sys can do .. in front of module\n",
    "from app import db\n",
    "from app.models import User, Project, ProjMember, JoinRequest, ScrumTask, Tag, Position, PROJ_CATEGORIES, \\\n",
    "                            Learning #Project subclasses\n",
    "from app import create_app\n",
    "\n",
    "app = create_app()\n",
    "app.app_context().push()\n",
    "from gensim.models.doc2vec import Doc2Vec, TaggedDocument\n",
    "import umap\n",
    "import matplotlib.pyplot as plt\n",
    "import numpy as np"
   ]
  },
  {
   "cell_type": "markdown",
   "metadata": {},
   "source": [
    "# Matching users with projects, and vice versa\n",
    "\n",
    "Condensing projects, and users, into machine interpretable matrices.\n",
    " Recommended table schema\n",
    "\n",
    "`USER_ID | PROJECT_ID | CATEGORY | RANK`\n",
    "\n",
    "## Text data\n",
    "* Projects\n",
    " - Description (string)\n",
    " - Tags (array of strings)\n",
    "    \n",
    "* Users\n",
    " - Interests (array)\n",
    " - About me/goals (string)\n",
    " - Should also incorporate liked/followed projects and other users\n",
    " \n",
    "Content based filtering (2 approaches)\n",
    "- Jaccard Index (non ML)\n",
    "- Cosine Similarity (content embeddings) \n",
    "    - this is probably what will be used for the description strings as well\n",
    "    \n",
    "Users should have a relation table for whether or not project should show up in recommended\n",
    "- False flag if user is already member, or if they click a 'hide recommendation' button\n",
    "    - Hide recommendation can also have an option for \"Not interested\" as a label for models\n",
    "\n",
    "[Great resource for this](https://github.com/JohnsonKuan/movie-rec-tags/blob/master/Movie-Rec-Movielens-Tags.ipynb)\n",
    "\n",
    "# TODO\n",
    "[pretrained models](https://radimrehurek.com/gensim/models/word2vec.html)"
   ]
  },
  {
   "cell_type": "code",
   "execution_count": 148,
   "metadata": {
    "execution": {
     "iopub.execute_input": "2021-08-04T00:45:09.935421Z",
     "iopub.status.busy": "2021-08-04T00:45:09.935075Z",
     "iopub.status.idle": "2021-08-04T00:45:10.179045Z",
     "shell.execute_reply": "2021-08-04T00:45:10.175749Z",
     "shell.execute_reply.started": "2021-08-04T00:45:09.935383Z"
    }
   },
   "outputs": [],
   "source": [
    "def prepare_data(model, id_, tags_only):\n",
    "    \"\"\"Prepare string data for semantic model\n",
    "    maybe not necessary\"\"\"\n",
    "    inst = model.query.get(id_)\n",
    "    if model == Project:\n",
    "        description = inst.descr\n",
    "    else:\n",
    "        description = inst.about_me\n",
    "    return description #TAGS: {' '.join(tags)}\"\n",
    "    \n",
    "\n",
    "    \n",
    "\n",
    "\n"
   ]
  },
  {
   "cell_type": "code",
   "execution_count": 49,
   "metadata": {
    "execution": {
     "iopub.execute_input": "2021-08-03T19:56:10.666423Z",
     "iopub.status.busy": "2021-08-03T19:56:10.665531Z",
     "iopub.status.idle": "2021-08-03T19:56:46.641718Z",
     "shell.execute_reply": "2021-08-03T19:56:46.638158Z",
     "shell.execute_reply.started": "2021-08-03T19:56:10.666348Z"
    }
   },
   "outputs": [
    {
     "name": "stdin",
     "output_type": "stream",
     "text": [
      " python computer-programming data-science machine-learning physics math javascript\n"
     ]
    }
   ],
   "source": [
    "usr = input().split(' ')"
   ]
  },
  {
   "cell_type": "code",
   "execution_count": 51,
   "metadata": {
    "execution": {
     "iopub.execute_input": "2021-08-03T19:59:19.375697Z",
     "iopub.status.busy": "2021-08-03T19:59:19.375061Z",
     "iopub.status.idle": "2021-08-03T20:04:19.698820Z",
     "shell.execute_reply": "2021-08-03T20:04:19.685167Z",
     "shell.execute_reply.started": "2021-08-03T19:59:19.375613Z"
    }
   },
   "outputs": [
    {
     "name": "stdin",
     "output_type": "stream",
     "text": [
      " machine-learning software-engineering web-development\n",
      " data-science python pandas\n",
      " art painting nature\n",
      " sports analysis excel basketball\n",
      " books reading science-fiction\n",
      " science math analysis\n",
      " cooking food \n",
      " javascript web-development apparel data-analysis\n",
      " hiking nature outdoor-activities\n",
      " deep-learning machine-learning data-science\n"
     ]
    }
   ],
   "source": [
    "fake_projs = dict()\n",
    "for i in range(10):\n",
    "    fake_projs[i] =  input().split(' ')\n"
   ]
  },
  {
   "cell_type": "code",
   "execution_count": 54,
   "metadata": {
    "execution": {
     "iopub.execute_input": "2021-08-03T20:05:11.262452Z",
     "iopub.status.busy": "2021-08-03T20:05:11.261789Z",
     "iopub.status.idle": "2021-08-03T20:05:11.337863Z",
     "shell.execute_reply": "2021-08-03T20:05:11.336491Z",
     "shell.execute_reply.started": "2021-08-03T20:05:11.262383Z"
    }
   },
   "outputs": [
    {
     "data": {
      "text/plain": [
       "{0: ['machine-learning', 'software-engineering', 'web-development'],\n",
       " 1: ['data-science', 'python', 'pandas'],\n",
       " 2: ['art', 'painting', 'nature'],\n",
       " 3: ['sports', 'analysis', 'excel', 'basketball'],\n",
       " 4: ['books', 'reading', 'science-fiction'],\n",
       " 5: ['science', 'math', 'analysis'],\n",
       " 6: ['cooking', 'food', ''],\n",
       " 7: ['javascript', 'web-development', 'apparel', 'data-analysis'],\n",
       " 8: ['hiking', 'nature', 'outdoor-activities'],\n",
       " 9: ['deep-learning', 'machine-learning', 'data-science']}"
      ]
     },
     "execution_count": 54,
     "metadata": {},
     "output_type": "execute_result"
    }
   ],
   "source": [
    "fake_projs"
   ]
  },
  {
   "cell_type": "code",
   "execution_count": 154,
   "metadata": {
    "execution": {
     "iopub.execute_input": "2021-08-04T00:52:30.425423Z",
     "iopub.status.busy": "2021-08-04T00:52:30.424614Z",
     "iopub.status.idle": "2021-08-04T00:52:30.670202Z",
     "shell.execute_reply": "2021-08-04T00:52:30.668051Z",
     "shell.execute_reply.started": "2021-08-04T00:52:30.425349Z"
    }
   },
   "outputs": [
    {
     "name": "stdout",
     "output_type": "stream",
     "text": [
      "[1, 9, 0, 5, 7, 2, 3, 4, 6, 8]\n",
      "[9, 6, 7, 1, 5, 8, 0, 3, 4, 2]\n"
     ]
    }
   ],
   "source": [
    "print(cbf(usr, jaccard_index, fake_data=1))\n",
    "print(cbf(usr, cosine_sim, model=mo ,fake_data=1))"
   ]
  },
  {
   "cell_type": "markdown",
   "metadata": {},
   "source": [
    "# Doc2Vec"
   ]
  },
  {
   "cell_type": "code",
   "execution_count": 153,
   "metadata": {
    "execution": {
     "iopub.execute_input": "2021-08-04T00:52:25.757767Z",
     "iopub.status.busy": "2021-08-04T00:52:25.757138Z",
     "iopub.status.idle": "2021-08-04T00:52:26.509597Z",
     "shell.execute_reply": "2021-08-04T00:52:26.507718Z",
     "shell.execute_reply.started": "2021-08-04T00:52:25.757697Z"
    }
   },
   "outputs": [],
   "source": [
    "def train_model(max_epochs, vec_size, alpha, FAKE_DATA=0):\n",
    "    \"\"\"Trains Doc2Vec model to create content embedding on tags\"\"\"\n",
    "    if not FAKE_DATA:\n",
    "        projects = Project.query.all()\n",
    "        users = User.query.all() #TODO have a include_users arg\n",
    "        proj_tags =  [[t.name for t in p.tags] for p in projects] # assumes tags have clean format\n",
    "    else:\n",
    "        proj_tags = FAKE_DATA\n",
    "    proj_tags_doc = [TaggedDocument(words=D, tags=[str(i)]) for i, D in enumerate(proj_tags)]\n",
    "    \n",
    "    model = Doc2Vec(vector_size=vec_size,\n",
    "                   alpha=alpha,\n",
    "                   min_alpha=.00025,\n",
    "                   min_count=1,\n",
    "                   dm=0)\n",
    "    \n",
    "    model.build_vocab(proj_tags_doc)\n",
    "    for epoch in range(max_epochs):\n",
    "        model.train(proj_tags_doc, total_examples=model.corpus_count, epochs=model.epochs)\n",
    "        model.alpha -= .0002 #decrease LR\n",
    "        model.min_alpha = model.alpha # fix LR w/o decay\n",
    "        \n",
    "    return model\n",
    "\n",
    "mo= train_model(max_epochs=50, vec_size=3, alpha=.025, FAKE_DATA = list(fake_projs.values()).append(usr))"
   ]
  },
  {
   "cell_type": "code",
   "execution_count": 129,
   "metadata": {
    "execution": {
     "iopub.execute_input": "2021-08-03T22:24:18.574990Z",
     "iopub.status.busy": "2021-08-03T22:24:18.574570Z",
     "iopub.status.idle": "2021-08-03T22:24:18.779339Z",
     "shell.execute_reply": "2021-08-03T22:24:18.776663Z",
     "shell.execute_reply.started": "2021-08-03T22:24:18.574943Z"
    }
   },
   "outputs": [
    {
     "data": {
      "text/plain": [
       "array([[ 0.41453287,  0.10771006, -0.5225251 ],\n",
       "       [ 0.71531576, -0.38233927, -0.6245335 ],\n",
       "       [ 0.54852635, -0.23875757, -0.61412114],\n",
       "       [ 1.1464095 , -0.23747687, -0.7389227 ],\n",
       "       [ 0.44399005, -0.17563416, -0.7286961 ],\n",
       "       [ 0.5235246 , -0.28810576, -0.6174281 ],\n",
       "       [ 0.79403895, -0.27898872, -0.7191566 ],\n",
       "       [ 1.0502168 , -0.2077465 , -1.0158744 ],\n",
       "       [ 0.7584385 , -0.3445291 , -0.46348628],\n",
       "       [ 0.51693636, -0.13532563, -0.5862865 ]], dtype=float32)"
      ]
     },
     "execution_count": 129,
     "metadata": {},
     "output_type": "execute_result"
    }
   ],
   "source": [
    "vectors = mo.docvecs.vectors_docs\n",
    "vectors\n",
    "lowd = umap.UMAP(n_neighbors=3, min_dist=.001, metric='cosine').fit_transform(vectors)"
   ]
  },
  {
   "cell_type": "code",
   "execution_count": 124,
   "metadata": {
    "execution": {
     "iopub.execute_input": "2021-08-03T22:03:06.744347Z",
     "iopub.status.busy": "2021-08-03T22:03:06.742621Z",
     "iopub.status.idle": "2021-08-03T22:03:07.342212Z",
     "shell.execute_reply": "2021-08-03T22:03:07.337338Z",
     "shell.execute_reply.started": "2021-08-03T22:03:06.744269Z"
    }
   },
   "outputs": [
    {
     "data": {
      "text/plain": [
       "<matplotlib.collections.PathCollection at 0x7fc646493990>"
      ]
     },
     "execution_count": 124,
     "metadata": {},
     "output_type": "execute_result"
    },
    {
     "data": {
      "image/png": "[encoded data removed]",
      "text/plain": [
       "<Figure size 432x288 with 1 Axes>"
      ]
     },
     "metadata": {
      "needs_background": "light"
     },
     "output_type": "display_data"
    }
   ],
   "source": [
    "x, y = lowd.T[0], lowd.T[1]\n",
    "plt.scatter(x,y)"
   ]
  },
  {
   "cell_type": "code",
   "execution_count": 40,
   "metadata": {
    "execution": {
     "iopub.execute_input": "2021-08-13T00:07:37.647138Z",
     "iopub.status.busy": "2021-08-13T00:07:37.646801Z",
     "iopub.status.idle": "2021-08-13T00:07:37.659045Z",
     "shell.execute_reply": "2021-08-13T00:07:37.652804Z",
     "shell.execute_reply.started": "2021-08-13T00:07:37.647100Z"
    }
   },
   "outputs": [],
   "source": [
    "\n",
    "def f(fun):\n",
    "    f1= lambda x:x+1\n",
    "    \n",
    "    s = 3\n",
    "    x=locals()[fun](s)\n",
    "    return x\n",
    "    \n",
    "f('f1')\n",
    "\n",
    "def x():\n",
    "x    \"\""
   ]
  },
  {
   "cell_type": "code",
   "execution_count": 53,
   "metadata": {
    "execution": {
     "iopub.execute_input": "2021-08-13T01:33:29.223953Z",
     "iopub.status.busy": "2021-08-13T01:33:29.223309Z",
     "iopub.status.idle": "2021-08-13T01:33:29.240739Z",
     "shell.execute_reply": "2021-08-13T01:33:29.239217Z",
     "shell.execute_reply.started": "2021-08-13T01:33:29.223869Z"
    }
   },
   "outputs": [
    {
     "data": {
      "text/plain": [
       "[1, 2, 3]"
      ]
     },
     "execution_count": 53,
     "metadata": {},
     "output_type": "execute_result"
    }
   ],
   "source": [
    "class Mixin:\n",
    "    def appender(self, l):\n",
    "        for i in l:\n",
    "            self.tags.append(i)\n",
    "            \n",
    "class A(Mixin):\n",
    "    \n",
    "    tags = []\n",
    "    def uses_appender(self,l):\n",
    "        self.appender(l)\n",
    "        \n",
    "    def x(self):\n",
    "        self.uses_appender([1,2,3])\n",
    "    \n",
    "a = A()\n",
    "a.uses_appender([1,2,3])\n",
    "# a.x()\n",
    "a.tags"
   ]
  },
  {
   "cell_type": "code",
   "execution_count": 59,
   "metadata": {
    "execution": {
     "iopub.execute_input": "2021-08-13T02:27:30.257569Z",
     "iopub.status.busy": "2021-08-13T02:27:30.257167Z",
     "iopub.status.idle": "2021-08-13T02:27:30.266505Z",
     "shell.execute_reply": "2021-08-13T02:27:30.264728Z",
     "shell.execute_reply.started": "2021-08-13T02:27:30.257509Z"
    }
   },
   "outputs": [
    {
     "name": "stdout",
     "output_type": "stream",
     "text": [
      "1 2\n",
      "3 4\n"
     ]
    }
   ],
   "source": [
    "x = {1:2, 3:4}\n",
    "for k,v in x.items():\n",
    "    print(k,v)"
   ]
  },
  {
   "cell_type": "code",
   "execution_count": 62,
   "metadata": {
    "execution": {
     "iopub.execute_input": "2021-08-13T18:50:53.497099Z",
     "iopub.status.busy": "2021-08-13T18:50:53.496514Z",
     "iopub.status.idle": "2021-08-13T18:50:53.515376Z",
     "shell.execute_reply": "2021-08-13T18:50:53.514136Z",
     "shell.execute_reply.started": "2021-08-13T18:50:53.497032Z"
    }
   },
   "outputs": [
    {
     "data": {
      "text/plain": [
       "3"
      ]
     },
     "execution_count": 62,
     "metadata": {},
     "output_type": "execute_result"
    }
   ],
   "source": [
    "x = {'1':lambda a:a+1}\n",
    "x['1'](2)"
   ]
  },
  {
   "cell_type": "code",
   "execution_count": 86,
   "metadata": {
    "execution": {
     "iopub.execute_input": "2021-08-13T20:09:57.073257Z",
     "iopub.status.busy": "2021-08-13T20:09:57.072882Z",
     "iopub.status.idle": "2021-08-13T20:09:57.121372Z",
     "shell.execute_reply": "2021-08-13T20:09:57.111841Z",
     "shell.execute_reply.started": "2021-08-13T20:09:57.073216Z"
    }
   },
   "outputs": [
    {
     "data": {
      "text/plain": [
       "[2, 3]"
      ]
     },
     "execution_count": 86,
     "metadata": {},
     "output_type": "execute_result"
    }
   ],
   "source": [
    "x=[1,2,3]\n",
    "x.pop(0)\n",
    "x"
   ]
  },
  {
   "cell_type": "code",
   "execution_count": 88,
   "metadata": {
    "execution": {
     "iopub.execute_input": "2021-08-14T00:00:58.047343Z",
     "iopub.status.busy": "2021-08-14T00:00:58.046697Z",
     "iopub.status.idle": "2021-08-14T00:00:58.057752Z",
     "shell.execute_reply": "2021-08-14T00:00:58.055715Z",
     "shell.execute_reply.started": "2021-08-14T00:00:58.047273Z"
    }
   },
   "outputs": [
    {
     "data": {
      "text/plain": [
       "'asdasd_eqwwe'"
      ]
     },
     "execution_count": 88,
     "metadata": {},
     "output_type": "execute_result"
    }
   ],
   "source": [
    "'_'.join(\"asdasd eqwwe\".split())"
   ]
  },
  {
   "cell_type": "code",
   "execution_count": 90,
   "metadata": {
    "execution": {
     "iopub.execute_input": "2021-08-14T00:04:18.344452Z",
     "iopub.status.busy": "2021-08-14T00:04:18.343933Z",
     "iopub.status.idle": "2021-08-14T00:04:18.363731Z",
     "shell.execute_reply": "2021-08-14T00:04:18.360724Z",
     "shell.execute_reply.started": "2021-08-14T00:04:18.344385Z"
    }
   },
   "outputs": [
    {
     "data": {
      "text/plain": [
       "[1, 2]"
      ]
     },
     "execution_count": 90,
     "metadata": {},
     "output_type": "execute_result"
    }
   ],
   "source": [
    "x={1:2}\n",
    "list(x.keys()) + [2]"
   ]
  },
  {
   "cell_type": "code",
   "execution_count": 91,
   "metadata": {
    "execution": {
     "iopub.execute_input": "2021-08-14T01:03:34.176773Z",
     "iopub.status.busy": "2021-08-14T01:03:34.171859Z",
     "iopub.status.idle": "2021-08-14T01:03:34.206292Z",
     "shell.execute_reply": "2021-08-14T01:03:34.202347Z",
     "shell.execute_reply.started": "2021-08-14T01:03:34.176547Z"
    }
   },
   "outputs": [
    {
     "name": "stdout",
     "output_type": "stream",
     "text": [
      "3\n"
     ]
    }
   ],
   "source": [
    "if 1:\n",
    "    pass\n",
    "    print(3)"
   ]
  },
  {
   "cell_type": "code",
   "execution_count": null,
   "metadata": {},
   "outputs": [],
   "source": []
  }
 ],
 "metadata": {
  "kernelspec": {
   "display_name": "Python 3",
   "language": "python",
   "name": "python3"
  },
  "language_info": {
   "codemirror_mode": {
    "name": "ipython",
    "version": 3
   },
   "file_extension": ".py",
   "mimetype": "text/x-python",
   "name": "python",
   "nbconvert_exporter": "python",
   "pygments_lexer": "ipython3",
   "version": "3.7.4"
  }
 },
 "nbformat": 4,
 "nbformat_minor": 4
}
