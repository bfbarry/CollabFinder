{
 "cells": [
  {
   "cell_type": "code",
   "execution_count": 1,
   "metadata": {
    "execution": {
     "iopub.execute_input": "2021-08-03T02:19:42.705529Z",
     "iopub.status.busy": "2021-08-03T02:19:42.704649Z",
     "iopub.status.idle": "2021-08-03T02:19:47.601128Z",
     "shell.execute_reply": "2021-08-03T02:19:47.599835Z",
     "shell.execute_reply.started": "2021-08-03T02:19:42.705455Z"
    }
   },
   "outputs": [],
   "source": [
    "%load_ext autoreload\n",
    "%autoreload 2\n",
    "# import sys, os\n",
    "# sys.path.append('../')\n",
    "\n",
    "from app import db\n",
    "from app.models import User, Project, ProjMember, JoinRequest, ScrumTask, Tag, Position, proj_categories, \\\n",
    "                            Learning #Project subclasses\n",
    "from app import create_app\n",
    "\n",
    "app = create_app()\n",
    "app.app_context().push()"
   ]
  },
  {
   "cell_type": "markdown",
   "metadata": {},
   "source": [
    "# Matching users with projects, and vice versa\n",
    "\n",
    "Condensing projects, and users, into machine interpretable matrices.\n",
    "\n",
    "## Text data\n",
    "* Projects\n",
    " - Description (string)\n",
    " - Tags (array of strings)\n",
    "    \n",
    "* Users\n",
    " - Interests (array)\n",
    " - About me/goals (string)\n",
    " - Should also incorporate liked/followed projects and other users\n",
    " \n",
    "Without machine learning can use Content based filtering to overlap tags and recommend projects based on that. Two approaches\n",
    "\n",
    "- Jaccard Index\n",
    "- Cosine Similarity (content embeddings) \n",
    "    - this is probably what will be used for the description strings as well\n",
    "    \n",
    "Users should have a relation table for whether or not project should show up in recommended\n",
    "- False flag if user is already member, or if they click a 'hide recommendation' button\n",
    "\n",
    "[Great resource for this](https://github.com/JohnsonKuan/movie-rec-tags/blob/master/Movie-Rec-Movielens-Tags.ipynb)"
   ]
  },
  {
   "cell_type": "code",
   "execution_count": 42,
   "metadata": {
    "execution": {
     "iopub.execute_input": "2021-08-03T03:52:45.753432Z",
     "iopub.status.busy": "2021-08-03T03:52:45.752897Z",
     "iopub.status.idle": "2021-08-03T03:52:45.957097Z",
     "shell.execute_reply": "2021-08-03T03:52:45.954894Z",
     "shell.execute_reply.started": "2021-08-03T03:52:45.753350Z"
    }
   },
   "outputs": [],
   "source": [
    "def prepare_data(model, id_, tags_only):\n",
    "    \"\"\"Prepare data for a more semantic model\"\"\"\n",
    "    inst = model.query.get(id_)\n",
    "    if model == Project:\n",
    "        description = inst.descr\n",
    "    else:\n",
    "        description = inst.about_me\n",
    "    return description #TAGS: {' '.join(tags)}\"\n",
    "    \n",
    "def jaccard_index(*args):\n",
    "    \"\"\"takes in two lists\"\"\"\n",
    "    l1, l2 = map(set, args)\n",
    "    return len(l1 & l2) / len(l1 | l2)\n",
    "\n",
    "def cbf(user, func):\n",
    "    \"\"\"performs collaborative based filtering \n",
    "    func: either jaccard_index or cosine_similarity\n",
    "    \n",
    "    returns list of projects ordered by similarity\"\"\"\n",
    "    user_tags = [t.name for t in user.tags]\n",
    "    projects = Project.query.all()\n",
    "    projects = {p.id : [t.name for t in p.tags] for p in projects}\n",
    "    scores = {p.id : 0 for p in projects}\n",
    "    \n",
    "    for k,v in projects:\n",
    "        scores[k] = func(user_tags,v)\n",
    "    \n",
    "    sorted_scores = list(scores.values()).sort(reverse=True)\n",
    "    sorted_projs = [{v:k for k,v in scores}[s] for s in sorted_scores]\n",
    "    return sorted_projs\n",
    "    "
   ]
  },
  {
   "cell_type": "code",
   "execution_count": 29,
   "metadata": {
    "execution": {
     "iopub.execute_input": "2021-08-03T03:15:16.036023Z",
     "iopub.status.busy": "2021-08-03T03:15:16.035377Z",
     "iopub.status.idle": "2021-08-03T03:15:16.099529Z",
     "shell.execute_reply": "2021-08-03T03:15:16.097607Z",
     "shell.execute_reply.started": "2021-08-03T03:15:16.035955Z"
    }
   },
   "outputs": [
    {
     "name": "stdout",
     "output_type": "stream",
     "text": [
      "0.14285714285714285 1.0\n"
     ]
    }
   ],
   "source": [
    "print(jaccard_index([1,2,4,3,1],[45,34,23,1]), jaccard_index([1,1,2,2],[1,1,2,2]))"
   ]
  }
 ],
 "metadata": {
  "kernelspec": {
   "display_name": "Python 3",
   "language": "python",
   "name": "python3"
  },
  "language_info": {
   "codemirror_mode": {
    "name": "ipython",
    "version": 3
   },
   "file_extension": ".py",
   "mimetype": "text/x-python",
   "name": "python",
   "nbconvert_exporter": "python",
   "pygments_lexer": "ipython3",
   "version": "3.7.4"
  }
 },
 "nbformat": 4,
 "nbformat_minor": 4
}
